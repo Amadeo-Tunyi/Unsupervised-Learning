{
 "cells": [
  {
   "cell_type": "code",
   "execution_count": 1,
   "metadata": {},
   "outputs": [],
   "source": [
    "from scipy.stats import dirichlet\n",
    "import numpy as np"
   ]
  },
  {
   "cell_type": "code",
   "execution_count": 2,
   "metadata": {},
   "outputs": [],
   "source": [
    "\n",
    "from scipy.stats import multinomial\n",
    "\n",
    "def make_dataset(n, alpha, beta):\n",
    "    xs = []\n",
    "    for k, alpha_k in enumerate(alpha):\n",
    "        n_k = int(n * alpha_k)\n",
    "        x = multinomial.rvs(n=16, p=beta[k], size=n_k)\n",
    "        xs.append(x)\n",
    "    return np.vstack(xs)"
   ]
  },
  {
   "cell_type": "code",
   "execution_count": 3,
   "metadata": {},
   "outputs": [],
   "source": [
    "alpha = np.array([1/3,1/3,1/3])\n",
    "beta = np.array([[0.1, 0.1, 0.8], [0.1, 0.8, 0.1], [0.8, 0.1, 0.1]])"
   ]
  },
  {
   "cell_type": "code",
   "execution_count": 4,
   "metadata": {},
   "outputs": [],
   "source": [
    "X = make_dataset(10, alpha,beta )"
   ]
  },
  {
   "cell_type": "code",
   "execution_count": 5,
   "metadata": {},
   "outputs": [],
   "source": [
    "seed = 42\n",
    "rng = np.random.default_rng(seed = 42)"
   ]
  },
  {
   "cell_type": "code",
   "execution_count": 6,
   "metadata": {},
   "outputs": [],
   "source": [
    "def init_params(X, K):\n",
    "    C = X.shape[1]\n",
    "    weights = np.random.randint(1, 20, K)\n",
    "    alpha = weights / weights.sum()\n",
    "    beta = dirichlet.rvs([2 * C] * C, K)\n",
    "    return alpha, beta"
   ]
  },
  {
   "cell_type": "code",
   "execution_count": 7,
   "metadata": {},
   "outputs": [],
   "source": [
    "x = rng.uniform(-0,1, size = 3)"
   ]
  },
  {
   "cell_type": "code",
   "execution_count": 8,
   "metadata": {},
   "outputs": [
    {
     "data": {
      "text/plain": [
       "0.9999999999999998"
      ]
     },
     "execution_count": 8,
     "metadata": {},
     "output_type": "execute_result"
    }
   ],
   "source": [
    "(x/x.sum()).sum()"
   ]
  },
  {
   "cell_type": "code",
   "execution_count": 9,
   "metadata": {},
   "outputs": [],
   "source": [
    "a, b= init_params(X, 3)"
   ]
  },
  {
   "cell_type": "code",
   "execution_count": 10,
   "metadata": {},
   "outputs": [],
   "source": [
    "import math"
   ]
  },
  {
   "cell_type": "code",
   "execution_count": 11,
   "metadata": {},
   "outputs": [],
   "source": [
    "def multinomial_probability(x_i, beta_k):\n",
    "    n_i = x_i.sum()\n",
    "    d = 1\n",
    "    for i in range(len(x_i)):\n",
    "        d*= (beta_k[i]**x_i[i]/math.factorial(x_i[i]))\n",
    "\n",
    "    return n_i*d\n",
    "        \n",
    "\n"
   ]
  },
  {
   "cell_type": "code",
   "execution_count": 12,
   "metadata": {},
   "outputs": [],
   "source": [
    "def multinomial_pmf(counts, beta, log = False):\n",
    "        n = counts.sum(axis= 1)\n",
    "        m = multinomial(n, beta)\n",
    "        if log:\n",
    "            return m.logpmf(counts)\n",
    "        return m.pmf(counts)"
   ]
  },
  {
   "cell_type": "code",
   "execution_count": 13,
   "metadata": {},
   "outputs": [
    {
     "data": {
      "text/plain": [
       "array([49, 44, 51])"
      ]
     },
     "execution_count": 13,
     "metadata": {},
     "output_type": "execute_result"
    }
   ],
   "source": [
    "X.sum(axis = 0)"
   ]
  },
  {
   "cell_type": "code",
   "execution_count": 14,
   "metadata": {},
   "outputs": [
    {
     "data": {
      "text/plain": [
       "array([1.05553116e-01, 3.07863256e-02, 1.87604171e-02, 5.60000000e-14,\n",
       "       3.72736000e-10, 7.87218432e-07, 5.82400000e-12, 1.07520000e-11,\n",
       "       1.07520000e-11])"
      ]
     },
     "execution_count": 14,
     "metadata": {},
     "output_type": "execute_result"
    }
   ],
   "source": [
    "multinomial_pmf(X, beta[0])"
   ]
  },
  {
   "cell_type": "code",
   "execution_count": 15,
   "metadata": {},
   "outputs": [],
   "source": [
    "import scipy"
   ]
  },
  {
   "cell_type": "code",
   "execution_count": 16,
   "metadata": {},
   "outputs": [],
   "source": [
    "\n",
    "def e_step(data, n_clusters, beta, pi):\n",
    "    likelihood = np.zeros((data.shape[0], n_clusters))\n",
    "    #responsibility = np.zeros_like(likelihood)\n",
    "    for i in range(n_clusters):\n",
    "        \n",
    "        betai = beta[i] \n",
    "        # if any(np.isnan(mui)):\n",
    "        #     new_mu, new_sigma, new_pi = init(data, n_clusters)\n",
    "        #     mui = new_mu[i]\n",
    "        #     covi = new_sigma[i]\n",
    "        \n",
    "\n",
    "        #normal_dist = scipy.stats.multivariate_normal(mean = mu[i], cov = sigma[i])\n",
    "        likelihood[:,i] = multinomial_pmf(counts = data,  beta=betai)\n",
    "    numerator = (likelihood*pi) + 1e-18\n",
    "    denominator = numerator.sum(axis = 1)[:, np.newaxis] \n",
    "    denominator = denominator \n",
    "    \n",
    "\n",
    "    responsibility = numerator/denominator\n",
    "    return responsibility"
   ]
  },
  {
   "cell_type": "code",
   "execution_count": 17,
   "metadata": {},
   "outputs": [],
   "source": [
    "r = e_step(X, 3, b, a)"
   ]
  },
  {
   "cell_type": "code",
   "execution_count": 18,
   "metadata": {},
   "outputs": [],
   "source": [
    "def m_step(data,beta, pi, n_clusters, responsibility):\n",
    "    \n",
    "\n",
    "    for i in range(n_clusters):\n",
    "        weight = responsibility[:, [i]]\n",
    "        total_weight = weight.sum()\n",
    "        beta[i] = (data * weight).sum(axis=0) / (data * weight).sum()       \n",
    "\n",
    "        pi[i] = responsibility[:,i].sum()/len(data)\n",
    "    return np.array(beta), np.array(pi)\n",
    "\n"
   ]
  },
  {
   "cell_type": "code",
   "execution_count": 19,
   "metadata": {},
   "outputs": [
    {
     "data": {
      "text/plain": [
       "(array([[0.13878429, 0.11066766, 0.75054805],\n",
       "        [0.65788322, 0.24824154, 0.09387524],\n",
       "        [0.11830272, 0.68009047, 0.2016068 ]]),\n",
       " array([0.35600015, 0.39787134, 0.24612851]))"
      ]
     },
     "execution_count": 19,
     "metadata": {},
     "output_type": "execute_result"
    }
   ],
   "source": [
    "m_step(X, b, a, 3, r)"
   ]
  },
  {
   "cell_type": "code",
   "execution_count": 20,
   "metadata": {},
   "outputs": [],
   "source": [
    "def log_loss( X, alpha, beta, gamma):\n",
    "    \"\"\"\n",
    "    X: (N x C), matrix of counts\n",
    "    alpha: (K)  mixture component weights\n",
    "    beta: (K x C), multinomial categories weights\n",
    "    gamma: (N x K), posterior probabilities for cluster assignments\n",
    "    :return:  The variational lower bound value\n",
    "    \"\"\"\n",
    "    loss = 0\n",
    "    for k in range(beta.shape[0]):\n",
    "        weights = gamma[:, k]\n",
    "        loss += np.sum(weights * (np.log(alpha[k]) + multinomial_pmf(X, beta[k], log=True)))\n",
    "        loss -= np.sum(weights * np.log(weights))\n",
    "    return -1*loss"
   ]
  },
  {
   "cell_type": "code",
   "execution_count": 21,
   "metadata": {},
   "outputs": [
    {
     "data": {
      "text/plain": [
       "49.86497763428007"
      ]
     },
     "execution_count": 21,
     "metadata": {},
     "output_type": "execute_result"
    }
   ],
   "source": [
    "log_loss(X, a, b, r)"
   ]
  },
  {
   "cell_type": "code",
   "execution_count": 22,
   "metadata": {},
   "outputs": [],
   "source": [
    "def mmm(data, max_iter, n_clusters, rtol = 1e-4):\n",
    "    import matplotlib.pyplot as plt\n",
    "    iter = 0\n",
    "    pi, beta= init_params(data, n_clusters)\n",
    "    l = []\n",
    "    loss = 0\n",
    "    while iter < max_iter:\n",
    "        prev_loss = loss\n",
    "        responsibility = e_step(data, n_clusters, beta, pi)\n",
    "        beta, pi = m_step(data,beta, pi, n_clusters, responsibility)\n",
    "        loss = log_loss( X, pi, beta, responsibility)\n",
    "        l.append(loss)\n",
    "       \n",
    "        \n",
    "        iter += 1\n",
    "        #print(f'loss: {loss}')\n",
    "        print('Loss: %f' % loss)\n",
    "        if iter > 0 and np.abs((loss - prev_loss)) < rtol:\n",
    "            print(iter)\n",
    "            break\n",
    "    return np.argmax(np.array(responsibility), axis = 1), loss\n",
    "        \n",
    "        \n",
    "\n"
   ]
  },
  {
   "cell_type": "code",
   "execution_count": 23,
   "metadata": {},
   "outputs": [
    {
     "name": "stdout",
     "output_type": "stream",
     "text": [
      "Loss: 39.539863\n",
      "Loss: 38.257076\n",
      "Loss: 38.256472\n",
      "Loss: 38.256472\n",
      "4\n"
     ]
    },
    {
     "data": {
      "text/plain": [
       "(array([0, 0, 0, 1, 1, 1, 2, 2, 2], dtype=int64), 38.25647175580019)"
      ]
     },
     "execution_count": 23,
     "metadata": {},
     "output_type": "execute_result"
    }
   ],
   "source": [
    "mmm(X,100, 3)"
   ]
  },
  {
   "cell_type": "code",
   "execution_count": 24,
   "metadata": {},
   "outputs": [],
   "source": [
    "from mmm import MultinomialMixtureModel"
   ]
  },
  {
   "cell_type": "code",
   "execution_count": 25,
   "metadata": {},
   "outputs": [
    {
     "name": "stdout",
     "output_type": "stream",
     "text": [
      "iteration 0\n",
      "Loss: 48.953038\n",
      "Loss: 38.260000\n",
      "Loss: 38.256472\n",
      "3\n",
      "better loss on iteration 0: 38.2564717606\n",
      "iteration 1\n",
      "Loss: 66.946769\n",
      "Loss: 60.163403\n",
      "Loss: 58.899773\n",
      "Loss: 58.575335\n",
      "Loss: 58.568496\n",
      "5\n",
      "iteration 2\n",
      "Loss: 65.582459\n",
      "Loss: 61.230000\n",
      "Loss: 54.732354\n",
      "Loss: 45.661003\n",
      "Loss: 38.660855\n",
      "Loss: 38.256472\n",
      "Loss: 38.256472\n",
      "7\n",
      "better loss on iteration 2: 38.2564717558\n",
      "iteration 3\n",
      "Loss: 56.262834\n",
      "Loss: 42.253433\n",
      "Loss: 38.414355\n",
      "Loss: 38.256478\n",
      "Loss: 38.256472\n",
      "5\n",
      "iteration 4\n",
      "Loss: 51.734269\n",
      "Loss: 38.376662\n",
      "Loss: 38.256475\n",
      "Loss: 38.256472\n",
      "4\n",
      "iteration 5\n",
      "Loss: 54.432526\n",
      "Loss: 38.922005\n",
      "Loss: 38.256609\n",
      "Loss: 38.256472\n",
      "4\n",
      "iteration 6\n",
      "Loss: 58.800221\n",
      "Loss: 42.624872\n",
      "Loss: 38.530100\n",
      "Loss: 38.256490\n",
      "Loss: 38.256472\n",
      "5\n",
      "iteration 7\n",
      "Loss: 46.493023\n",
      "Loss: 38.260804\n",
      "Loss: 38.256472\n",
      "3\n",
      "iteration 8\n",
      "Loss: 68.629497\n",
      "Loss: 52.506038\n",
      "Loss: 38.539024\n",
      "Loss: 38.256491\n",
      "Loss: 38.256472\n",
      "5\n",
      "iteration 9\n",
      "Loss: 71.633325\n",
      "Loss: 46.457713\n",
      "Loss: 38.279797\n",
      "Loss: 38.256472\n",
      "Loss: 38.256472\n",
      "5\n",
      "better loss on iteration 9: 38.2564717558\n"
     ]
    },
    {
     "data": {
      "text/plain": [
       "(38.2564717558002,\n",
       " array([0.33333341, 0.33332744, 0.33333915]),\n",
       " array([[0.79166652, 0.10416667, 0.10416681],\n",
       "        [0.12500003, 0.70833575, 0.16666423],\n",
       "        [0.104167  , 0.10417493, 0.79165807]]),\n",
       " array([2, 2, 2, 1, 1, 1, 0, 0, 0], dtype=int64))"
      ]
     },
     "execution_count": 25,
     "metadata": {},
     "output_type": "execute_result"
    }
   ],
   "source": [
    "model = MultinomialMixtureModel(3)\n",
    "model.fit(X)\n"
   ]
  },
  {
   "cell_type": "code",
   "execution_count": 26,
   "metadata": {},
   "outputs": [
    {
     "data": {
      "text/plain": [
       "array([[ 0,  3, 13]])"
      ]
     },
     "execution_count": 26,
     "metadata": {},
     "output_type": "execute_result"
    }
   ],
   "source": [
    "X[1].shape\n",
    "np.array(list(X[1].reshape((1,3))))"
   ]
  },
  {
   "cell_type": "code",
   "execution_count": 27,
   "metadata": {},
   "outputs": [
    {
     "data": {
      "text/plain": [
       "array([ 0,  3, 13])"
      ]
     },
     "execution_count": 27,
     "metadata": {},
     "output_type": "execute_result"
    }
   ],
   "source": [
    "X[1]"
   ]
  },
  {
   "cell_type": "code",
   "execution_count": 28,
   "metadata": {},
   "outputs": [
    {
     "data": {
      "text/plain": [
       "True"
      ]
     },
     "execution_count": 28,
     "metadata": {},
     "output_type": "execute_result"
    }
   ],
   "source": [
    "X[1].shape == (len(X[1]), )"
   ]
  },
  {
   "cell_type": "code",
   "execution_count": 29,
   "metadata": {},
   "outputs": [
    {
     "data": {
      "text/plain": [
       "2.428988280294053e-17"
      ]
     },
     "execution_count": 29,
     "metadata": {},
     "output_type": "execute_result"
    }
   ],
   "source": [
    "model.score_sample(X)"
   ]
  },
  {
   "cell_type": "code",
   "execution_count": null,
   "metadata": {},
   "outputs": [],
   "source": []
  }
 ],
 "metadata": {
  "kernelspec": {
   "display_name": "Python 3",
   "language": "python",
   "name": "python3"
  },
  "language_info": {
   "codemirror_mode": {
    "name": "ipython",
    "version": 3
   },
   "file_extension": ".py",
   "mimetype": "text/x-python",
   "name": "python",
   "nbconvert_exporter": "python",
   "pygments_lexer": "ipython3",
   "version": "3.10.11"
  },
  "orig_nbformat": 4
 },
 "nbformat": 4,
 "nbformat_minor": 2
}
